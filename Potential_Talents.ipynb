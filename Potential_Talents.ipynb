{
  "nbformat": 4,
  "nbformat_minor": 0,
  "metadata": {
    "colab": {
      "provenance": [],
      "authorship_tag": "ABX9TyN6dH3mvDTR+UYAxfiydZaK",
      "include_colab_link": true
    },
    "kernelspec": {
      "name": "python3",
      "display_name": "Python 3"
    },
    "language_info": {
      "name": "python"
    }
  },
  "cells": [
    {
      "cell_type": "markdown",
      "metadata": {
        "id": "view-in-github",
        "colab_type": "text"
      },
      "source": [
        "<a href=\"https://colab.research.google.com/github/trtrgfh/GlVYfAbQjtuwUHlZ/blob/main/Potential_Talents.ipynb\" target=\"_parent\"><img src=\"https://colab.research.google.com/assets/colab-badge.svg\" alt=\"Open In Colab\"/></a>"
      ]
    },
    {
      "cell_type": "code",
      "execution_count": 1,
      "metadata": {
        "id": "54KOeKkvbL8A"
      },
      "outputs": [],
      "source": [
        "import pandas as pd\n",
        "import matplotlib.pyplot as plt\n",
        "import numpy as np\n",
        "import pickle\n",
        "from sklearn.feature_extraction.text import CountVectorizer, TfidfVectorizer\n",
        "from sklearn.metrics.pairwise import cosine_similarity"
      ]
    },
    {
      "cell_type": "code",
      "source": [
        "df = pd.read_csv(\"/content/potential-talents.csv\")\n",
        "print(df.shape)\n",
        "df.head()"
      ],
      "metadata": {
        "colab": {
          "base_uri": "https://localhost:8080/",
          "height": 224
        },
        "id": "xU0NRbBcbUj7",
        "outputId": "18392643-3c82-4d3c-9b09-cecf76489029"
      },
      "execution_count": 2,
      "outputs": [
        {
          "output_type": "stream",
          "name": "stdout",
          "text": [
            "(104, 5)\n"
          ]
        },
        {
          "output_type": "execute_result",
          "data": {
            "text/plain": [
              "   id                                          job_title  \\\n",
              "0   1  2019 C.T. Bauer College of Business Graduate (...   \n",
              "1   2  Native English Teacher at EPIK (English Progra...   \n",
              "2   3              Aspiring Human Resources Professional   \n",
              "3   4             People Development Coordinator at Ryan   \n",
              "4   5    Advisory Board Member at Celal Bayar University   \n",
              "\n",
              "                              location connection  fit  \n",
              "0                       Houston, Texas         85  NaN  \n",
              "1                               Kanada      500+   NaN  \n",
              "2  Raleigh-Durham, North Carolina Area         44  NaN  \n",
              "3                        Denton, Texas      500+   NaN  \n",
              "4                       İzmir, Türkiye      500+   NaN  "
            ],
            "text/html": [
              "\n",
              "  <div id=\"df-1344c4fa-3b61-4c34-b98e-3427978af2f0\">\n",
              "    <div class=\"colab-df-container\">\n",
              "      <div>\n",
              "<style scoped>\n",
              "    .dataframe tbody tr th:only-of-type {\n",
              "        vertical-align: middle;\n",
              "    }\n",
              "\n",
              "    .dataframe tbody tr th {\n",
              "        vertical-align: top;\n",
              "    }\n",
              "\n",
              "    .dataframe thead th {\n",
              "        text-align: right;\n",
              "    }\n",
              "</style>\n",
              "<table border=\"1\" class=\"dataframe\">\n",
              "  <thead>\n",
              "    <tr style=\"text-align: right;\">\n",
              "      <th></th>\n",
              "      <th>id</th>\n",
              "      <th>job_title</th>\n",
              "      <th>location</th>\n",
              "      <th>connection</th>\n",
              "      <th>fit</th>\n",
              "    </tr>\n",
              "  </thead>\n",
              "  <tbody>\n",
              "    <tr>\n",
              "      <th>0</th>\n",
              "      <td>1</td>\n",
              "      <td>2019 C.T. Bauer College of Business Graduate (...</td>\n",
              "      <td>Houston, Texas</td>\n",
              "      <td>85</td>\n",
              "      <td>NaN</td>\n",
              "    </tr>\n",
              "    <tr>\n",
              "      <th>1</th>\n",
              "      <td>2</td>\n",
              "      <td>Native English Teacher at EPIK (English Progra...</td>\n",
              "      <td>Kanada</td>\n",
              "      <td>500+</td>\n",
              "      <td>NaN</td>\n",
              "    </tr>\n",
              "    <tr>\n",
              "      <th>2</th>\n",
              "      <td>3</td>\n",
              "      <td>Aspiring Human Resources Professional</td>\n",
              "      <td>Raleigh-Durham, North Carolina Area</td>\n",
              "      <td>44</td>\n",
              "      <td>NaN</td>\n",
              "    </tr>\n",
              "    <tr>\n",
              "      <th>3</th>\n",
              "      <td>4</td>\n",
              "      <td>People Development Coordinator at Ryan</td>\n",
              "      <td>Denton, Texas</td>\n",
              "      <td>500+</td>\n",
              "      <td>NaN</td>\n",
              "    </tr>\n",
              "    <tr>\n",
              "      <th>4</th>\n",
              "      <td>5</td>\n",
              "      <td>Advisory Board Member at Celal Bayar University</td>\n",
              "      <td>İzmir, Türkiye</td>\n",
              "      <td>500+</td>\n",
              "      <td>NaN</td>\n",
              "    </tr>\n",
              "  </tbody>\n",
              "</table>\n",
              "</div>\n",
              "      <button class=\"colab-df-convert\" onclick=\"convertToInteractive('df-1344c4fa-3b61-4c34-b98e-3427978af2f0')\"\n",
              "              title=\"Convert this dataframe to an interactive table.\"\n",
              "              style=\"display:none;\">\n",
              "        \n",
              "  <svg xmlns=\"http://www.w3.org/2000/svg\" height=\"24px\"viewBox=\"0 0 24 24\"\n",
              "       width=\"24px\">\n",
              "    <path d=\"M0 0h24v24H0V0z\" fill=\"none\"/>\n",
              "    <path d=\"M18.56 5.44l.94 2.06.94-2.06 2.06-.94-2.06-.94-.94-2.06-.94 2.06-2.06.94zm-11 1L8.5 8.5l.94-2.06 2.06-.94-2.06-.94L8.5 2.5l-.94 2.06-2.06.94zm10 10l.94 2.06.94-2.06 2.06-.94-2.06-.94-.94-2.06-.94 2.06-2.06.94z\"/><path d=\"M17.41 7.96l-1.37-1.37c-.4-.4-.92-.59-1.43-.59-.52 0-1.04.2-1.43.59L10.3 9.45l-7.72 7.72c-.78.78-.78 2.05 0 2.83L4 21.41c.39.39.9.59 1.41.59.51 0 1.02-.2 1.41-.59l7.78-7.78 2.81-2.81c.8-.78.8-2.07 0-2.86zM5.41 20L4 18.59l7.72-7.72 1.47 1.35L5.41 20z\"/>\n",
              "  </svg>\n",
              "      </button>\n",
              "      \n",
              "  <style>\n",
              "    .colab-df-container {\n",
              "      display:flex;\n",
              "      flex-wrap:wrap;\n",
              "      gap: 12px;\n",
              "    }\n",
              "\n",
              "    .colab-df-convert {\n",
              "      background-color: #E8F0FE;\n",
              "      border: none;\n",
              "      border-radius: 50%;\n",
              "      cursor: pointer;\n",
              "      display: none;\n",
              "      fill: #1967D2;\n",
              "      height: 32px;\n",
              "      padding: 0 0 0 0;\n",
              "      width: 32px;\n",
              "    }\n",
              "\n",
              "    .colab-df-convert:hover {\n",
              "      background-color: #E2EBFA;\n",
              "      box-shadow: 0px 1px 2px rgba(60, 64, 67, 0.3), 0px 1px 3px 1px rgba(60, 64, 67, 0.15);\n",
              "      fill: #174EA6;\n",
              "    }\n",
              "\n",
              "    [theme=dark] .colab-df-convert {\n",
              "      background-color: #3B4455;\n",
              "      fill: #D2E3FC;\n",
              "    }\n",
              "\n",
              "    [theme=dark] .colab-df-convert:hover {\n",
              "      background-color: #434B5C;\n",
              "      box-shadow: 0px 1px 3px 1px rgba(0, 0, 0, 0.15);\n",
              "      filter: drop-shadow(0px 1px 2px rgba(0, 0, 0, 0.3));\n",
              "      fill: #FFFFFF;\n",
              "    }\n",
              "  </style>\n",
              "\n",
              "      <script>\n",
              "        const buttonEl =\n",
              "          document.querySelector('#df-1344c4fa-3b61-4c34-b98e-3427978af2f0 button.colab-df-convert');\n",
              "        buttonEl.style.display =\n",
              "          google.colab.kernel.accessAllowed ? 'block' : 'none';\n",
              "\n",
              "        async function convertToInteractive(key) {\n",
              "          const element = document.querySelector('#df-1344c4fa-3b61-4c34-b98e-3427978af2f0');\n",
              "          const dataTable =\n",
              "            await google.colab.kernel.invokeFunction('convertToInteractive',\n",
              "                                                     [key], {});\n",
              "          if (!dataTable) return;\n",
              "\n",
              "          const docLinkHtml = 'Like what you see? Visit the ' +\n",
              "            '<a target=\"_blank\" href=https://colab.research.google.com/notebooks/data_table.ipynb>data table notebook</a>'\n",
              "            + ' to learn more about interactive tables.';\n",
              "          element.innerHTML = '';\n",
              "          dataTable['output_type'] = 'display_data';\n",
              "          await google.colab.output.renderOutput(dataTable, element);\n",
              "          const docLink = document.createElement('div');\n",
              "          docLink.innerHTML = docLinkHtml;\n",
              "          element.appendChild(docLink);\n",
              "        }\n",
              "      </script>\n",
              "    </div>\n",
              "  </div>\n",
              "  "
            ]
          },
          "metadata": {},
          "execution_count": 2
        }
      ]
    },
    {
      "cell_type": "code",
      "source": [
        "job_titles = df[\"job_title\"].to_list()\n",
        "job_titles = [string.lower() for string in job_titles]\n",
        "keywords = [\"aspiring human resources\", \"seeking human resources\"]\n",
        "\n",
        "combined_list = keywords + job_titles"
      ],
      "metadata": {
        "id": "pLWsM36OhmJP"
      },
      "execution_count": 3,
      "outputs": []
    },
    {
      "cell_type": "markdown",
      "source": [
        "## Preprocessing"
      ],
      "metadata": {
        "id": "brRwHaxChC61"
      }
    },
    {
      "cell_type": "markdown",
      "source": [
        "## Bag-of-words"
      ],
      "metadata": {
        "id": "4m3E-4rNFV0i"
      }
    },
    {
      "cell_type": "code",
      "source": [
        "from nltk.stem import PorterStemmer        "
      ],
      "metadata": {
        "id": "xXyE0zIxjoY7"
      },
      "execution_count": 4,
      "outputs": []
    },
    {
      "cell_type": "code",
      "source": [
        "CountVec = CountVectorizer(ngram_range=(1,1), # to use bigrams ngram_range=(2,2)\n",
        "                           stop_words='english')\n",
        "# fit and transform\n",
        "Count_data = CountVec.fit_transform(combined_list)\n",
        "\n",
        "cv_keyword_vec = Count_data[:len(keywords)].toarray()\n",
        "cv_title_vec = Count_data[len(keywords):].toarray()"
      ],
      "metadata": {
        "id": "RMgQZwkzFYS-"
      },
      "execution_count": 5,
      "outputs": []
    },
    {
      "cell_type": "code",
      "source": [
        "# Compute cosine similarity between the keyword vectors and job title vectors\n",
        "cv_cs = cosine_similarity(cv_keyword_vec, cv_title_vec)"
      ],
      "metadata": {
        "id": "y5YIM9TJsdWH"
      },
      "execution_count": 6,
      "outputs": []
    },
    {
      "cell_type": "code",
      "source": [
        "# Get the cos similarity of each candidata with reaspect to candidata id\n",
        "cv_res = pd.DataFrame(cv_cs,columns=df['id'])"
      ],
      "metadata": {
        "id": "qoTOZEybst4k"
      },
      "execution_count": 7,
      "outputs": []
    },
    {
      "cell_type": "code",
      "source": [
        "cv_res_key1 = cv_res.iloc[0]\n",
        "cv_res_key2 = cv_res.iloc[1]\n",
        "tfidf_res1 = pd.DataFrame(cv_res_key1, index=df['id'])\n",
        "tfidf_res2 = pd.DataFrame(cv_res_key2, index=df['id'])\n",
        "print(cv_res.shape)"
      ],
      "metadata": {
        "colab": {
          "base_uri": "https://localhost:8080/"
        },
        "id": "OW_4lidfugcf",
        "outputId": "f1e41dfa-58c6-465d-c8f6-3aeac4daaa09"
      },
      "execution_count": 8,
      "outputs": [
        {
          "output_type": "stream",
          "name": "stdout",
          "text": [
            "(2, 104)\n"
          ]
        }
      ]
    },
    {
      "cell_type": "code",
      "source": [
        "cv_res_key1"
      ],
      "metadata": {
        "colab": {
          "base_uri": "https://localhost:8080/"
        },
        "id": "9LGUibDuqrDN",
        "outputId": "1c2d8c73-cd32-4bb8-b981-63895f6d844d"
      },
      "execution_count": 9,
      "outputs": [
        {
          "output_type": "execute_result",
          "data": {
            "text/plain": [
              "id\n",
              "1      0.500000\n",
              "2      0.000000\n",
              "3      0.866025\n",
              "4      0.000000\n",
              "5      0.000000\n",
              "         ...   \n",
              "100    0.680414\n",
              "101    0.577350\n",
              "102    0.000000\n",
              "103    0.000000\n",
              "104    0.000000\n",
              "Name: 0, Length: 104, dtype: float64"
            ]
          },
          "metadata": {},
          "execution_count": 9
        }
      ]
    },
    {
      "cell_type": "code",
      "source": [
        "cv_res_key2"
      ],
      "metadata": {
        "colab": {
          "base_uri": "https://localhost:8080/"
        },
        "id": "g1A7UZcVqrA7",
        "outputId": "51a57986-1ae9-4169-b602-9b3f7c50cb8b"
      },
      "execution_count": 10,
      "outputs": [
        {
          "output_type": "execute_result",
          "data": {
            "text/plain": [
              "id\n",
              "1      0.333333\n",
              "2      0.000000\n",
              "3      0.577350\n",
              "4      0.000000\n",
              "5      0.000000\n",
              "         ...   \n",
              "100    0.680414\n",
              "101    0.577350\n",
              "102    0.000000\n",
              "103    0.000000\n",
              "104    0.000000\n",
              "Name: 1, Length: 104, dtype: float64"
            ]
          },
          "metadata": {},
          "execution_count": 10
        }
      ]
    },
    {
      "cell_type": "markdown",
      "source": [
        "## Tf-Idf vectorizer"
      ],
      "metadata": {
        "id": "bejto63mXTVU"
      }
    },
    {
      "cell_type": "code",
      "source": [
        "tfidf_vec = TfidfVectorizer(use_idf=True,  \n",
        "                        smooth_idf=True,  \n",
        "                        ngram_range=(1,1),stop_words='english')\n",
        " \n",
        "tfidf_data = tfidf_vec.fit_transform(combined_list)\n",
        "\n",
        "tfidf_keyword_vec = tfidf_data[:len(keywords)].toarray()\n",
        "tfidf_title_vec = tfidf_data[len(keywords):].toarray()"
      ],
      "metadata": {
        "id": "dw4l0MJMUdl6"
      },
      "execution_count": 11,
      "outputs": []
    },
    {
      "cell_type": "code",
      "source": [
        "tfidf_cs = cosine_similarity(tfidf_keyword_vec, tfidf_title_vec)"
      ],
      "metadata": {
        "id": "nekXS5pYm4Eq"
      },
      "execution_count": 12,
      "outputs": []
    },
    {
      "cell_type": "code",
      "source": [
        "tfidf_res = pd.DataFrame(cv_cs,columns=df['id'])"
      ],
      "metadata": {
        "id": "SDbkDOB5nFeU"
      },
      "execution_count": 13,
      "outputs": []
    },
    {
      "cell_type": "code",
      "source": [
        "tfidf_res_key1 = tfidf_res.iloc[0]\n",
        "tfidf_res_key2 = tfidf_res.iloc[1]\n",
        "tfidf_res1 = pd.DataFrame(tfidf_res_key1, index=df['id'])\n",
        "tfidf_res2 = pd.DataFrame(tfidf_res_key2, index=df['id'])\n",
        "print(tfidf_res.shape)"
      ],
      "metadata": {
        "colab": {
          "base_uri": "https://localhost:8080/"
        },
        "id": "HRB2G7I_s6lg",
        "outputId": "f3a6695d-ea15-47f1-c012-e77ebe9c0ffd"
      },
      "execution_count": 14,
      "outputs": [
        {
          "output_type": "stream",
          "name": "stdout",
          "text": [
            "(2, 104)\n"
          ]
        }
      ]
    },
    {
      "cell_type": "code",
      "source": [
        "tfidf_res1"
      ],
      "metadata": {
        "colab": {
          "base_uri": "https://localhost:8080/",
          "height": 455
        },
        "id": "W6k_3iGcqV0Y",
        "outputId": "29421768-2e26-4c24-a543-69f750f81d00"
      },
      "execution_count": 15,
      "outputs": [
        {
          "output_type": "execute_result",
          "data": {
            "text/plain": [
              "            0\n",
              "id           \n",
              "1    0.500000\n",
              "2    0.000000\n",
              "3    0.866025\n",
              "4    0.000000\n",
              "5    0.000000\n",
              "..        ...\n",
              "100  0.680414\n",
              "101  0.577350\n",
              "102  0.000000\n",
              "103  0.000000\n",
              "104  0.000000\n",
              "\n",
              "[104 rows x 1 columns]"
            ],
            "text/html": [
              "\n",
              "  <div id=\"df-66e9a97f-359a-43bb-a27d-df043195eb4b\">\n",
              "    <div class=\"colab-df-container\">\n",
              "      <div>\n",
              "<style scoped>\n",
              "    .dataframe tbody tr th:only-of-type {\n",
              "        vertical-align: middle;\n",
              "    }\n",
              "\n",
              "    .dataframe tbody tr th {\n",
              "        vertical-align: top;\n",
              "    }\n",
              "\n",
              "    .dataframe thead th {\n",
              "        text-align: right;\n",
              "    }\n",
              "</style>\n",
              "<table border=\"1\" class=\"dataframe\">\n",
              "  <thead>\n",
              "    <tr style=\"text-align: right;\">\n",
              "      <th></th>\n",
              "      <th>0</th>\n",
              "    </tr>\n",
              "    <tr>\n",
              "      <th>id</th>\n",
              "      <th></th>\n",
              "    </tr>\n",
              "  </thead>\n",
              "  <tbody>\n",
              "    <tr>\n",
              "      <th>1</th>\n",
              "      <td>0.500000</td>\n",
              "    </tr>\n",
              "    <tr>\n",
              "      <th>2</th>\n",
              "      <td>0.000000</td>\n",
              "    </tr>\n",
              "    <tr>\n",
              "      <th>3</th>\n",
              "      <td>0.866025</td>\n",
              "    </tr>\n",
              "    <tr>\n",
              "      <th>4</th>\n",
              "      <td>0.000000</td>\n",
              "    </tr>\n",
              "    <tr>\n",
              "      <th>5</th>\n",
              "      <td>0.000000</td>\n",
              "    </tr>\n",
              "    <tr>\n",
              "      <th>...</th>\n",
              "      <td>...</td>\n",
              "    </tr>\n",
              "    <tr>\n",
              "      <th>100</th>\n",
              "      <td>0.680414</td>\n",
              "    </tr>\n",
              "    <tr>\n",
              "      <th>101</th>\n",
              "      <td>0.577350</td>\n",
              "    </tr>\n",
              "    <tr>\n",
              "      <th>102</th>\n",
              "      <td>0.000000</td>\n",
              "    </tr>\n",
              "    <tr>\n",
              "      <th>103</th>\n",
              "      <td>0.000000</td>\n",
              "    </tr>\n",
              "    <tr>\n",
              "      <th>104</th>\n",
              "      <td>0.000000</td>\n",
              "    </tr>\n",
              "  </tbody>\n",
              "</table>\n",
              "<p>104 rows × 1 columns</p>\n",
              "</div>\n",
              "      <button class=\"colab-df-convert\" onclick=\"convertToInteractive('df-66e9a97f-359a-43bb-a27d-df043195eb4b')\"\n",
              "              title=\"Convert this dataframe to an interactive table.\"\n",
              "              style=\"display:none;\">\n",
              "        \n",
              "  <svg xmlns=\"http://www.w3.org/2000/svg\" height=\"24px\"viewBox=\"0 0 24 24\"\n",
              "       width=\"24px\">\n",
              "    <path d=\"M0 0h24v24H0V0z\" fill=\"none\"/>\n",
              "    <path d=\"M18.56 5.44l.94 2.06.94-2.06 2.06-.94-2.06-.94-.94-2.06-.94 2.06-2.06.94zm-11 1L8.5 8.5l.94-2.06 2.06-.94-2.06-.94L8.5 2.5l-.94 2.06-2.06.94zm10 10l.94 2.06.94-2.06 2.06-.94-2.06-.94-.94-2.06-.94 2.06-2.06.94z\"/><path d=\"M17.41 7.96l-1.37-1.37c-.4-.4-.92-.59-1.43-.59-.52 0-1.04.2-1.43.59L10.3 9.45l-7.72 7.72c-.78.78-.78 2.05 0 2.83L4 21.41c.39.39.9.59 1.41.59.51 0 1.02-.2 1.41-.59l7.78-7.78 2.81-2.81c.8-.78.8-2.07 0-2.86zM5.41 20L4 18.59l7.72-7.72 1.47 1.35L5.41 20z\"/>\n",
              "  </svg>\n",
              "      </button>\n",
              "      \n",
              "  <style>\n",
              "    .colab-df-container {\n",
              "      display:flex;\n",
              "      flex-wrap:wrap;\n",
              "      gap: 12px;\n",
              "    }\n",
              "\n",
              "    .colab-df-convert {\n",
              "      background-color: #E8F0FE;\n",
              "      border: none;\n",
              "      border-radius: 50%;\n",
              "      cursor: pointer;\n",
              "      display: none;\n",
              "      fill: #1967D2;\n",
              "      height: 32px;\n",
              "      padding: 0 0 0 0;\n",
              "      width: 32px;\n",
              "    }\n",
              "\n",
              "    .colab-df-convert:hover {\n",
              "      background-color: #E2EBFA;\n",
              "      box-shadow: 0px 1px 2px rgba(60, 64, 67, 0.3), 0px 1px 3px 1px rgba(60, 64, 67, 0.15);\n",
              "      fill: #174EA6;\n",
              "    }\n",
              "\n",
              "    [theme=dark] .colab-df-convert {\n",
              "      background-color: #3B4455;\n",
              "      fill: #D2E3FC;\n",
              "    }\n",
              "\n",
              "    [theme=dark] .colab-df-convert:hover {\n",
              "      background-color: #434B5C;\n",
              "      box-shadow: 0px 1px 3px 1px rgba(0, 0, 0, 0.15);\n",
              "      filter: drop-shadow(0px 1px 2px rgba(0, 0, 0, 0.3));\n",
              "      fill: #FFFFFF;\n",
              "    }\n",
              "  </style>\n",
              "\n",
              "      <script>\n",
              "        const buttonEl =\n",
              "          document.querySelector('#df-66e9a97f-359a-43bb-a27d-df043195eb4b button.colab-df-convert');\n",
              "        buttonEl.style.display =\n",
              "          google.colab.kernel.accessAllowed ? 'block' : 'none';\n",
              "\n",
              "        async function convertToInteractive(key) {\n",
              "          const element = document.querySelector('#df-66e9a97f-359a-43bb-a27d-df043195eb4b');\n",
              "          const dataTable =\n",
              "            await google.colab.kernel.invokeFunction('convertToInteractive',\n",
              "                                                     [key], {});\n",
              "          if (!dataTable) return;\n",
              "\n",
              "          const docLinkHtml = 'Like what you see? Visit the ' +\n",
              "            '<a target=\"_blank\" href=https://colab.research.google.com/notebooks/data_table.ipynb>data table notebook</a>'\n",
              "            + ' to learn more about interactive tables.';\n",
              "          element.innerHTML = '';\n",
              "          dataTable['output_type'] = 'display_data';\n",
              "          await google.colab.output.renderOutput(dataTable, element);\n",
              "          const docLink = document.createElement('div');\n",
              "          docLink.innerHTML = docLinkHtml;\n",
              "          element.appendChild(docLink);\n",
              "        }\n",
              "      </script>\n",
              "    </div>\n",
              "  </div>\n",
              "  "
            ]
          },
          "metadata": {},
          "execution_count": 15
        }
      ]
    },
    {
      "cell_type": "code",
      "source": [
        "tfidf_res2"
      ],
      "metadata": {
        "colab": {
          "base_uri": "https://localhost:8080/",
          "height": 455
        },
        "id": "jOTKQ8LiqVsH",
        "outputId": "744172d2-fc81-468c-dab2-a9c32386908f"
      },
      "execution_count": 16,
      "outputs": [
        {
          "output_type": "execute_result",
          "data": {
            "text/plain": [
              "            1\n",
              "id           \n",
              "1    0.333333\n",
              "2    0.000000\n",
              "3    0.577350\n",
              "4    0.000000\n",
              "5    0.000000\n",
              "..        ...\n",
              "100  0.680414\n",
              "101  0.577350\n",
              "102  0.000000\n",
              "103  0.000000\n",
              "104  0.000000\n",
              "\n",
              "[104 rows x 1 columns]"
            ],
            "text/html": [
              "\n",
              "  <div id=\"df-0c9583be-e1c6-4848-8488-f06b9c8a6276\">\n",
              "    <div class=\"colab-df-container\">\n",
              "      <div>\n",
              "<style scoped>\n",
              "    .dataframe tbody tr th:only-of-type {\n",
              "        vertical-align: middle;\n",
              "    }\n",
              "\n",
              "    .dataframe tbody tr th {\n",
              "        vertical-align: top;\n",
              "    }\n",
              "\n",
              "    .dataframe thead th {\n",
              "        text-align: right;\n",
              "    }\n",
              "</style>\n",
              "<table border=\"1\" class=\"dataframe\">\n",
              "  <thead>\n",
              "    <tr style=\"text-align: right;\">\n",
              "      <th></th>\n",
              "      <th>1</th>\n",
              "    </tr>\n",
              "    <tr>\n",
              "      <th>id</th>\n",
              "      <th></th>\n",
              "    </tr>\n",
              "  </thead>\n",
              "  <tbody>\n",
              "    <tr>\n",
              "      <th>1</th>\n",
              "      <td>0.333333</td>\n",
              "    </tr>\n",
              "    <tr>\n",
              "      <th>2</th>\n",
              "      <td>0.000000</td>\n",
              "    </tr>\n",
              "    <tr>\n",
              "      <th>3</th>\n",
              "      <td>0.577350</td>\n",
              "    </tr>\n",
              "    <tr>\n",
              "      <th>4</th>\n",
              "      <td>0.000000</td>\n",
              "    </tr>\n",
              "    <tr>\n",
              "      <th>5</th>\n",
              "      <td>0.000000</td>\n",
              "    </tr>\n",
              "    <tr>\n",
              "      <th>...</th>\n",
              "      <td>...</td>\n",
              "    </tr>\n",
              "    <tr>\n",
              "      <th>100</th>\n",
              "      <td>0.680414</td>\n",
              "    </tr>\n",
              "    <tr>\n",
              "      <th>101</th>\n",
              "      <td>0.577350</td>\n",
              "    </tr>\n",
              "    <tr>\n",
              "      <th>102</th>\n",
              "      <td>0.000000</td>\n",
              "    </tr>\n",
              "    <tr>\n",
              "      <th>103</th>\n",
              "      <td>0.000000</td>\n",
              "    </tr>\n",
              "    <tr>\n",
              "      <th>104</th>\n",
              "      <td>0.000000</td>\n",
              "    </tr>\n",
              "  </tbody>\n",
              "</table>\n",
              "<p>104 rows × 1 columns</p>\n",
              "</div>\n",
              "      <button class=\"colab-df-convert\" onclick=\"convertToInteractive('df-0c9583be-e1c6-4848-8488-f06b9c8a6276')\"\n",
              "              title=\"Convert this dataframe to an interactive table.\"\n",
              "              style=\"display:none;\">\n",
              "        \n",
              "  <svg xmlns=\"http://www.w3.org/2000/svg\" height=\"24px\"viewBox=\"0 0 24 24\"\n",
              "       width=\"24px\">\n",
              "    <path d=\"M0 0h24v24H0V0z\" fill=\"none\"/>\n",
              "    <path d=\"M18.56 5.44l.94 2.06.94-2.06 2.06-.94-2.06-.94-.94-2.06-.94 2.06-2.06.94zm-11 1L8.5 8.5l.94-2.06 2.06-.94-2.06-.94L8.5 2.5l-.94 2.06-2.06.94zm10 10l.94 2.06.94-2.06 2.06-.94-2.06-.94-.94-2.06-.94 2.06-2.06.94z\"/><path d=\"M17.41 7.96l-1.37-1.37c-.4-.4-.92-.59-1.43-.59-.52 0-1.04.2-1.43.59L10.3 9.45l-7.72 7.72c-.78.78-.78 2.05 0 2.83L4 21.41c.39.39.9.59 1.41.59.51 0 1.02-.2 1.41-.59l7.78-7.78 2.81-2.81c.8-.78.8-2.07 0-2.86zM5.41 20L4 18.59l7.72-7.72 1.47 1.35L5.41 20z\"/>\n",
              "  </svg>\n",
              "      </button>\n",
              "      \n",
              "  <style>\n",
              "    .colab-df-container {\n",
              "      display:flex;\n",
              "      flex-wrap:wrap;\n",
              "      gap: 12px;\n",
              "    }\n",
              "\n",
              "    .colab-df-convert {\n",
              "      background-color: #E8F0FE;\n",
              "      border: none;\n",
              "      border-radius: 50%;\n",
              "      cursor: pointer;\n",
              "      display: none;\n",
              "      fill: #1967D2;\n",
              "      height: 32px;\n",
              "      padding: 0 0 0 0;\n",
              "      width: 32px;\n",
              "    }\n",
              "\n",
              "    .colab-df-convert:hover {\n",
              "      background-color: #E2EBFA;\n",
              "      box-shadow: 0px 1px 2px rgba(60, 64, 67, 0.3), 0px 1px 3px 1px rgba(60, 64, 67, 0.15);\n",
              "      fill: #174EA6;\n",
              "    }\n",
              "\n",
              "    [theme=dark] .colab-df-convert {\n",
              "      background-color: #3B4455;\n",
              "      fill: #D2E3FC;\n",
              "    }\n",
              "\n",
              "    [theme=dark] .colab-df-convert:hover {\n",
              "      background-color: #434B5C;\n",
              "      box-shadow: 0px 1px 3px 1px rgba(0, 0, 0, 0.15);\n",
              "      filter: drop-shadow(0px 1px 2px rgba(0, 0, 0, 0.3));\n",
              "      fill: #FFFFFF;\n",
              "    }\n",
              "  </style>\n",
              "\n",
              "      <script>\n",
              "        const buttonEl =\n",
              "          document.querySelector('#df-0c9583be-e1c6-4848-8488-f06b9c8a6276 button.colab-df-convert');\n",
              "        buttonEl.style.display =\n",
              "          google.colab.kernel.accessAllowed ? 'block' : 'none';\n",
              "\n",
              "        async function convertToInteractive(key) {\n",
              "          const element = document.querySelector('#df-0c9583be-e1c6-4848-8488-f06b9c8a6276');\n",
              "          const dataTable =\n",
              "            await google.colab.kernel.invokeFunction('convertToInteractive',\n",
              "                                                     [key], {});\n",
              "          if (!dataTable) return;\n",
              "\n",
              "          const docLinkHtml = 'Like what you see? Visit the ' +\n",
              "            '<a target=\"_blank\" href=https://colab.research.google.com/notebooks/data_table.ipynb>data table notebook</a>'\n",
              "            + ' to learn more about interactive tables.';\n",
              "          element.innerHTML = '';\n",
              "          dataTable['output_type'] = 'display_data';\n",
              "          await google.colab.output.renderOutput(dataTable, element);\n",
              "          const docLink = document.createElement('div');\n",
              "          docLink.innerHTML = docLinkHtml;\n",
              "          element.appendChild(docLink);\n",
              "        }\n",
              "      </script>\n",
              "    </div>\n",
              "  </div>\n",
              "  "
            ]
          },
          "metadata": {},
          "execution_count": 16
        }
      ]
    },
    {
      "cell_type": "markdown",
      "source": [
        "## Word2vec"
      ],
      "metadata": {
        "id": "5V2duCZjoMfG"
      }
    },
    {
      "cell_type": "code",
      "source": [
        "import nltk\n",
        "nltk.download('stopwords')\n",
        "nltk.download('punkt')\n",
        "import string\n",
        "from nltk.corpus import stopwords\n",
        "from nltk import word_tokenize\n",
        "from gensim.models import Word2Vec as w2v\n",
        "from sklearn.decomposition import PCA"
      ],
      "metadata": {
        "colab": {
          "base_uri": "https://localhost:8080/"
        },
        "id": "Ivg_1yWCoSq2",
        "outputId": "ca84ceb6-6dc9-4e4c-e6ea-a149fb403ab3"
      },
      "execution_count": 17,
      "outputs": [
        {
          "output_type": "stream",
          "name": "stderr",
          "text": [
            "[nltk_data] Downloading package stopwords to /root/nltk_data...\n",
            "[nltk_data]   Package stopwords is already up-to-date!\n",
            "[nltk_data] Downloading package punkt to /root/nltk_data...\n",
            "[nltk_data]   Package punkt is already up-to-date!\n"
          ]
        }
      ]
    },
    {
      "cell_type": "code",
      "source": [
        "sw = stopwords.words('english')"
      ],
      "metadata": {
        "id": "mpe_vM9joSj5"
      },
      "execution_count": 18,
      "outputs": []
    },
    {
      "cell_type": "code",
      "source": [
        "# Tokenize each job title\n",
        "word2vec_tokens = [word_tokenize(job_title) for job_title in job_titles]"
      ],
      "metadata": {
        "id": "tdU3xaBRxXhk"
      },
      "execution_count": 19,
      "outputs": []
    },
    {
      "cell_type": "code",
      "source": [
        "# Remove stop words and puntuations\n",
        "word2vec_clean = []\n",
        "\n",
        "for line in word2vec_tokens: \n",
        "  tokens = []\n",
        "  for word in line:\n",
        "    if (word not in sw and word not in string.punctuation):  \n",
        "        tokens.append(word)\n",
        "  word2vec_clean.append(tokens)"
      ],
      "metadata": {
        "id": "EXa6GrTPxMYU"
      },
      "execution_count": 20,
      "outputs": []
    },
    {
      "cell_type": "code",
      "source": [
        "w = w2v(\n",
        "    word2vec_clean,\n",
        "    min_count=1,  \n",
        "    sg = 1,       \n",
        "    window=5      \n",
        ")       \n",
        "\n",
        "# Create word embedding \n",
        "word2vec_df = (\n",
        "    pd.DataFrame(\n",
        "        [w.wv.get_vector(str(n)) for n in w.wv.key_to_index],\n",
        "        index = w.wv.key_to_index\n",
        "    )\n",
        ")\n",
        "print(word2vec_df.shape)\n",
        "word2vec_df.head()"
      ],
      "metadata": {
        "colab": {
          "base_uri": "https://localhost:8080/",
          "height": 317
        },
        "id": "SN0auhmDxMQq",
        "outputId": "ef62a99f-84b5-4e13-b9ac-3052f7632455"
      },
      "execution_count": 21,
      "outputs": [
        {
          "output_type": "stream",
          "name": "stdout",
          "text": [
            "(185, 100)\n"
          ]
        },
        {
          "output_type": "execute_result",
          "data": {
            "text/plain": [
              "                    0         1         2         3         4         5   \\\n",
              "human        -0.000721  0.001137  0.004927  0.009055 -0.008244 -0.008943   \n",
              "resources    -0.008932  0.004368  0.005016  0.005808  0.008211 -0.007896   \n",
              "aspiring      0.000145  0.003494 -0.007041 -0.001435  0.008183  0.006441   \n",
              "professional -0.008349  0.009518 -0.000155 -0.001794  0.004900 -0.004827   \n",
              "student      -0.007151  0.001511 -0.007245 -0.002277  0.003972  0.005233   \n",
              "\n",
              "                    6         7         8         9   ...        90        91  \\\n",
              "human         0.007436  0.010913 -0.005582 -0.004577  ...  0.003089  0.001556   \n",
              "resources     0.001784  0.007625 -0.003179 -0.006778  ...  0.002101 -0.000378   \n",
              "aspiring     -0.003321  0.003717 -0.008738  0.005776  ... -0.003684  0.006493   \n",
              "professional  0.003044  0.007707  0.005900 -0.007954  ... -0.006945 -0.000452   \n",
              "student       0.001529  0.002735 -0.004286  0.006964  ...  0.003588 -0.004248   \n",
              "\n",
              "                    92        93        94        95        96        97  \\\n",
              "human         0.003665  0.001883  0.011729  0.006008 -0.008459 -0.007420   \n",
              "resources     0.002670 -0.006512 -0.000931  0.003528  0.005826 -0.002526   \n",
              "aspiring      0.009174 -0.003180  0.008934  0.005942  0.006044  0.000199   \n",
              "professional -0.000588 -0.001859  0.010418 -0.000043  0.006028 -0.007580   \n",
              "student       0.005417 -0.003617  0.003296 -0.007846  0.006414  0.004797   \n",
              "\n",
              "                    98        99  \n",
              "human         0.001335  0.005793  \n",
              "resources    -0.009151  0.004093  \n",
              "aspiring      0.008570 -0.007339  \n",
              "professional -0.002253 -0.005721  \n",
              "student       0.000978  0.002826  \n",
              "\n",
              "[5 rows x 100 columns]"
            ],
            "text/html": [
              "\n",
              "  <div id=\"df-ceeccbbc-58e7-4a3f-89b0-6f3c048e75dc\">\n",
              "    <div class=\"colab-df-container\">\n",
              "      <div>\n",
              "<style scoped>\n",
              "    .dataframe tbody tr th:only-of-type {\n",
              "        vertical-align: middle;\n",
              "    }\n",
              "\n",
              "    .dataframe tbody tr th {\n",
              "        vertical-align: top;\n",
              "    }\n",
              "\n",
              "    .dataframe thead th {\n",
              "        text-align: right;\n",
              "    }\n",
              "</style>\n",
              "<table border=\"1\" class=\"dataframe\">\n",
              "  <thead>\n",
              "    <tr style=\"text-align: right;\">\n",
              "      <th></th>\n",
              "      <th>0</th>\n",
              "      <th>1</th>\n",
              "      <th>2</th>\n",
              "      <th>3</th>\n",
              "      <th>4</th>\n",
              "      <th>5</th>\n",
              "      <th>6</th>\n",
              "      <th>7</th>\n",
              "      <th>8</th>\n",
              "      <th>9</th>\n",
              "      <th>...</th>\n",
              "      <th>90</th>\n",
              "      <th>91</th>\n",
              "      <th>92</th>\n",
              "      <th>93</th>\n",
              "      <th>94</th>\n",
              "      <th>95</th>\n",
              "      <th>96</th>\n",
              "      <th>97</th>\n",
              "      <th>98</th>\n",
              "      <th>99</th>\n",
              "    </tr>\n",
              "  </thead>\n",
              "  <tbody>\n",
              "    <tr>\n",
              "      <th>human</th>\n",
              "      <td>-0.000721</td>\n",
              "      <td>0.001137</td>\n",
              "      <td>0.004927</td>\n",
              "      <td>0.009055</td>\n",
              "      <td>-0.008244</td>\n",
              "      <td>-0.008943</td>\n",
              "      <td>0.007436</td>\n",
              "      <td>0.010913</td>\n",
              "      <td>-0.005582</td>\n",
              "      <td>-0.004577</td>\n",
              "      <td>...</td>\n",
              "      <td>0.003089</td>\n",
              "      <td>0.001556</td>\n",
              "      <td>0.003665</td>\n",
              "      <td>0.001883</td>\n",
              "      <td>0.011729</td>\n",
              "      <td>0.006008</td>\n",
              "      <td>-0.008459</td>\n",
              "      <td>-0.007420</td>\n",
              "      <td>0.001335</td>\n",
              "      <td>0.005793</td>\n",
              "    </tr>\n",
              "    <tr>\n",
              "      <th>resources</th>\n",
              "      <td>-0.008932</td>\n",
              "      <td>0.004368</td>\n",
              "      <td>0.005016</td>\n",
              "      <td>0.005808</td>\n",
              "      <td>0.008211</td>\n",
              "      <td>-0.007896</td>\n",
              "      <td>0.001784</td>\n",
              "      <td>0.007625</td>\n",
              "      <td>-0.003179</td>\n",
              "      <td>-0.006778</td>\n",
              "      <td>...</td>\n",
              "      <td>0.002101</td>\n",
              "      <td>-0.000378</td>\n",
              "      <td>0.002670</td>\n",
              "      <td>-0.006512</td>\n",
              "      <td>-0.000931</td>\n",
              "      <td>0.003528</td>\n",
              "      <td>0.005826</td>\n",
              "      <td>-0.002526</td>\n",
              "      <td>-0.009151</td>\n",
              "      <td>0.004093</td>\n",
              "    </tr>\n",
              "    <tr>\n",
              "      <th>aspiring</th>\n",
              "      <td>0.000145</td>\n",
              "      <td>0.003494</td>\n",
              "      <td>-0.007041</td>\n",
              "      <td>-0.001435</td>\n",
              "      <td>0.008183</td>\n",
              "      <td>0.006441</td>\n",
              "      <td>-0.003321</td>\n",
              "      <td>0.003717</td>\n",
              "      <td>-0.008738</td>\n",
              "      <td>0.005776</td>\n",
              "      <td>...</td>\n",
              "      <td>-0.003684</td>\n",
              "      <td>0.006493</td>\n",
              "      <td>0.009174</td>\n",
              "      <td>-0.003180</td>\n",
              "      <td>0.008934</td>\n",
              "      <td>0.005942</td>\n",
              "      <td>0.006044</td>\n",
              "      <td>0.000199</td>\n",
              "      <td>0.008570</td>\n",
              "      <td>-0.007339</td>\n",
              "    </tr>\n",
              "    <tr>\n",
              "      <th>professional</th>\n",
              "      <td>-0.008349</td>\n",
              "      <td>0.009518</td>\n",
              "      <td>-0.000155</td>\n",
              "      <td>-0.001794</td>\n",
              "      <td>0.004900</td>\n",
              "      <td>-0.004827</td>\n",
              "      <td>0.003044</td>\n",
              "      <td>0.007707</td>\n",
              "      <td>0.005900</td>\n",
              "      <td>-0.007954</td>\n",
              "      <td>...</td>\n",
              "      <td>-0.006945</td>\n",
              "      <td>-0.000452</td>\n",
              "      <td>-0.000588</td>\n",
              "      <td>-0.001859</td>\n",
              "      <td>0.010418</td>\n",
              "      <td>-0.000043</td>\n",
              "      <td>0.006028</td>\n",
              "      <td>-0.007580</td>\n",
              "      <td>-0.002253</td>\n",
              "      <td>-0.005721</td>\n",
              "    </tr>\n",
              "    <tr>\n",
              "      <th>student</th>\n",
              "      <td>-0.007151</td>\n",
              "      <td>0.001511</td>\n",
              "      <td>-0.007245</td>\n",
              "      <td>-0.002277</td>\n",
              "      <td>0.003972</td>\n",
              "      <td>0.005233</td>\n",
              "      <td>0.001529</td>\n",
              "      <td>0.002735</td>\n",
              "      <td>-0.004286</td>\n",
              "      <td>0.006964</td>\n",
              "      <td>...</td>\n",
              "      <td>0.003588</td>\n",
              "      <td>-0.004248</td>\n",
              "      <td>0.005417</td>\n",
              "      <td>-0.003617</td>\n",
              "      <td>0.003296</td>\n",
              "      <td>-0.007846</td>\n",
              "      <td>0.006414</td>\n",
              "      <td>0.004797</td>\n",
              "      <td>0.000978</td>\n",
              "      <td>0.002826</td>\n",
              "    </tr>\n",
              "  </tbody>\n",
              "</table>\n",
              "<p>5 rows × 100 columns</p>\n",
              "</div>\n",
              "      <button class=\"colab-df-convert\" onclick=\"convertToInteractive('df-ceeccbbc-58e7-4a3f-89b0-6f3c048e75dc')\"\n",
              "              title=\"Convert this dataframe to an interactive table.\"\n",
              "              style=\"display:none;\">\n",
              "        \n",
              "  <svg xmlns=\"http://www.w3.org/2000/svg\" height=\"24px\"viewBox=\"0 0 24 24\"\n",
              "       width=\"24px\">\n",
              "    <path d=\"M0 0h24v24H0V0z\" fill=\"none\"/>\n",
              "    <path d=\"M18.56 5.44l.94 2.06.94-2.06 2.06-.94-2.06-.94-.94-2.06-.94 2.06-2.06.94zm-11 1L8.5 8.5l.94-2.06 2.06-.94-2.06-.94L8.5 2.5l-.94 2.06-2.06.94zm10 10l.94 2.06.94-2.06 2.06-.94-2.06-.94-.94-2.06-.94 2.06-2.06.94z\"/><path d=\"M17.41 7.96l-1.37-1.37c-.4-.4-.92-.59-1.43-.59-.52 0-1.04.2-1.43.59L10.3 9.45l-7.72 7.72c-.78.78-.78 2.05 0 2.83L4 21.41c.39.39.9.59 1.41.59.51 0 1.02-.2 1.41-.59l7.78-7.78 2.81-2.81c.8-.78.8-2.07 0-2.86zM5.41 20L4 18.59l7.72-7.72 1.47 1.35L5.41 20z\"/>\n",
              "  </svg>\n",
              "      </button>\n",
              "      \n",
              "  <style>\n",
              "    .colab-df-container {\n",
              "      display:flex;\n",
              "      flex-wrap:wrap;\n",
              "      gap: 12px;\n",
              "    }\n",
              "\n",
              "    .colab-df-convert {\n",
              "      background-color: #E8F0FE;\n",
              "      border: none;\n",
              "      border-radius: 50%;\n",
              "      cursor: pointer;\n",
              "      display: none;\n",
              "      fill: #1967D2;\n",
              "      height: 32px;\n",
              "      padding: 0 0 0 0;\n",
              "      width: 32px;\n",
              "    }\n",
              "\n",
              "    .colab-df-convert:hover {\n",
              "      background-color: #E2EBFA;\n",
              "      box-shadow: 0px 1px 2px rgba(60, 64, 67, 0.3), 0px 1px 3px 1px rgba(60, 64, 67, 0.15);\n",
              "      fill: #174EA6;\n",
              "    }\n",
              "\n",
              "    [theme=dark] .colab-df-convert {\n",
              "      background-color: #3B4455;\n",
              "      fill: #D2E3FC;\n",
              "    }\n",
              "\n",
              "    [theme=dark] .colab-df-convert:hover {\n",
              "      background-color: #434B5C;\n",
              "      box-shadow: 0px 1px 3px 1px rgba(0, 0, 0, 0.15);\n",
              "      filter: drop-shadow(0px 1px 2px rgba(0, 0, 0, 0.3));\n",
              "      fill: #FFFFFF;\n",
              "    }\n",
              "  </style>\n",
              "\n",
              "      <script>\n",
              "        const buttonEl =\n",
              "          document.querySelector('#df-ceeccbbc-58e7-4a3f-89b0-6f3c048e75dc button.colab-df-convert');\n",
              "        buttonEl.style.display =\n",
              "          google.colab.kernel.accessAllowed ? 'block' : 'none';\n",
              "\n",
              "        async function convertToInteractive(key) {\n",
              "          const element = document.querySelector('#df-ceeccbbc-58e7-4a3f-89b0-6f3c048e75dc');\n",
              "          const dataTable =\n",
              "            await google.colab.kernel.invokeFunction('convertToInteractive',\n",
              "                                                     [key], {});\n",
              "          if (!dataTable) return;\n",
              "\n",
              "          const docLinkHtml = 'Like what you see? Visit the ' +\n",
              "            '<a target=\"_blank\" href=https://colab.research.google.com/notebooks/data_table.ipynb>data table notebook</a>'\n",
              "            + ' to learn more about interactive tables.';\n",
              "          element.innerHTML = '';\n",
              "          dataTable['output_type'] = 'display_data';\n",
              "          await google.colab.output.renderOutput(dataTable, element);\n",
              "          const docLink = document.createElement('div');\n",
              "          docLink.innerHTML = docLinkHtml;\n",
              "          element.appendChild(docLink);\n",
              "        }\n",
              "      </script>\n",
              "    </div>\n",
              "  </div>\n",
              "  "
            ]
          },
          "metadata": {},
          "execution_count": 21
        }
      ]
    },
    {
      "cell_type": "code",
      "source": [
        "word2vec_keyword_vec1 = [w.wv.get_vector(keyword) for keyword in [\"aspiring\", \"human\", \"resources\"]]\n",
        "word2vec_keyword_vec2 = [w.wv.get_vector(keyword) for keyword in [\"seeking\", \"human\", \"resources\"]]\n",
        "word2vec_cs1 = []\n",
        "word2vec_cs2 = []\n",
        "for title in word2vec_clean:\n",
        "  word2vec_cs1.append(cosine_similarity(word2vec_keyword_vec1, [w.wv.get_vector(word) for word in title]).mean())\n",
        "  word2vec_cs2.append(cosine_similarity(word2vec_keyword_vec2, [w.wv.get_vector(word) for word in title]).mean())"
      ],
      "metadata": {
        "id": "2MulJ5HCxMOI"
      },
      "execution_count": 22,
      "outputs": []
    },
    {
      "cell_type": "code",
      "source": [
        "word2vec_res1 = pd.DataFrame(word2vec_cs1, index=df['id'])\n",
        "word2vec_res2 = pd.DataFrame(word2vec_cs2, index=df['id'])"
      ],
      "metadata": {
        "id": "5TR17UC6DDUx"
      },
      "execution_count": 23,
      "outputs": []
    },
    {
      "cell_type": "code",
      "source": [
        "word2vec_res1"
      ],
      "metadata": {
        "colab": {
          "base_uri": "https://localhost:8080/",
          "height": 455
        },
        "id": "nCEoHpnOCFrf",
        "outputId": "9f48fb57-c075-4bfa-bf2c-99dc4abad157"
      },
      "execution_count": 24,
      "outputs": [
        {
          "output_type": "execute_result",
          "data": {
            "text/plain": [
              "            0\n",
              "id           \n",
              "1    0.123920\n",
              "2    0.068883\n",
              "3    0.263165\n",
              "4    0.011653\n",
              "5    0.054677\n",
              "..        ...\n",
              "100  0.148578\n",
              "101  0.190823\n",
              "102 -0.006135\n",
              "103  0.039704\n",
              "104  0.016121\n",
              "\n",
              "[104 rows x 1 columns]"
            ],
            "text/html": [
              "\n",
              "  <div id=\"df-d14a5ea5-ec70-43e5-9840-f11055922fb5\">\n",
              "    <div class=\"colab-df-container\">\n",
              "      <div>\n",
              "<style scoped>\n",
              "    .dataframe tbody tr th:only-of-type {\n",
              "        vertical-align: middle;\n",
              "    }\n",
              "\n",
              "    .dataframe tbody tr th {\n",
              "        vertical-align: top;\n",
              "    }\n",
              "\n",
              "    .dataframe thead th {\n",
              "        text-align: right;\n",
              "    }\n",
              "</style>\n",
              "<table border=\"1\" class=\"dataframe\">\n",
              "  <thead>\n",
              "    <tr style=\"text-align: right;\">\n",
              "      <th></th>\n",
              "      <th>0</th>\n",
              "    </tr>\n",
              "    <tr>\n",
              "      <th>id</th>\n",
              "      <th></th>\n",
              "    </tr>\n",
              "  </thead>\n",
              "  <tbody>\n",
              "    <tr>\n",
              "      <th>1</th>\n",
              "      <td>0.123920</td>\n",
              "    </tr>\n",
              "    <tr>\n",
              "      <th>2</th>\n",
              "      <td>0.068883</td>\n",
              "    </tr>\n",
              "    <tr>\n",
              "      <th>3</th>\n",
              "      <td>0.263165</td>\n",
              "    </tr>\n",
              "    <tr>\n",
              "      <th>4</th>\n",
              "      <td>0.011653</td>\n",
              "    </tr>\n",
              "    <tr>\n",
              "      <th>5</th>\n",
              "      <td>0.054677</td>\n",
              "    </tr>\n",
              "    <tr>\n",
              "      <th>...</th>\n",
              "      <td>...</td>\n",
              "    </tr>\n",
              "    <tr>\n",
              "      <th>100</th>\n",
              "      <td>0.148578</td>\n",
              "    </tr>\n",
              "    <tr>\n",
              "      <th>101</th>\n",
              "      <td>0.190823</td>\n",
              "    </tr>\n",
              "    <tr>\n",
              "      <th>102</th>\n",
              "      <td>-0.006135</td>\n",
              "    </tr>\n",
              "    <tr>\n",
              "      <th>103</th>\n",
              "      <td>0.039704</td>\n",
              "    </tr>\n",
              "    <tr>\n",
              "      <th>104</th>\n",
              "      <td>0.016121</td>\n",
              "    </tr>\n",
              "  </tbody>\n",
              "</table>\n",
              "<p>104 rows × 1 columns</p>\n",
              "</div>\n",
              "      <button class=\"colab-df-convert\" onclick=\"convertToInteractive('df-d14a5ea5-ec70-43e5-9840-f11055922fb5')\"\n",
              "              title=\"Convert this dataframe to an interactive table.\"\n",
              "              style=\"display:none;\">\n",
              "        \n",
              "  <svg xmlns=\"http://www.w3.org/2000/svg\" height=\"24px\"viewBox=\"0 0 24 24\"\n",
              "       width=\"24px\">\n",
              "    <path d=\"M0 0h24v24H0V0z\" fill=\"none\"/>\n",
              "    <path d=\"M18.56 5.44l.94 2.06.94-2.06 2.06-.94-2.06-.94-.94-2.06-.94 2.06-2.06.94zm-11 1L8.5 8.5l.94-2.06 2.06-.94-2.06-.94L8.5 2.5l-.94 2.06-2.06.94zm10 10l.94 2.06.94-2.06 2.06-.94-2.06-.94-.94-2.06-.94 2.06-2.06.94z\"/><path d=\"M17.41 7.96l-1.37-1.37c-.4-.4-.92-.59-1.43-.59-.52 0-1.04.2-1.43.59L10.3 9.45l-7.72 7.72c-.78.78-.78 2.05 0 2.83L4 21.41c.39.39.9.59 1.41.59.51 0 1.02-.2 1.41-.59l7.78-7.78 2.81-2.81c.8-.78.8-2.07 0-2.86zM5.41 20L4 18.59l7.72-7.72 1.47 1.35L5.41 20z\"/>\n",
              "  </svg>\n",
              "      </button>\n",
              "      \n",
              "  <style>\n",
              "    .colab-df-container {\n",
              "      display:flex;\n",
              "      flex-wrap:wrap;\n",
              "      gap: 12px;\n",
              "    }\n",
              "\n",
              "    .colab-df-convert {\n",
              "      background-color: #E8F0FE;\n",
              "      border: none;\n",
              "      border-radius: 50%;\n",
              "      cursor: pointer;\n",
              "      display: none;\n",
              "      fill: #1967D2;\n",
              "      height: 32px;\n",
              "      padding: 0 0 0 0;\n",
              "      width: 32px;\n",
              "    }\n",
              "\n",
              "    .colab-df-convert:hover {\n",
              "      background-color: #E2EBFA;\n",
              "      box-shadow: 0px 1px 2px rgba(60, 64, 67, 0.3), 0px 1px 3px 1px rgba(60, 64, 67, 0.15);\n",
              "      fill: #174EA6;\n",
              "    }\n",
              "\n",
              "    [theme=dark] .colab-df-convert {\n",
              "      background-color: #3B4455;\n",
              "      fill: #D2E3FC;\n",
              "    }\n",
              "\n",
              "    [theme=dark] .colab-df-convert:hover {\n",
              "      background-color: #434B5C;\n",
              "      box-shadow: 0px 1px 3px 1px rgba(0, 0, 0, 0.15);\n",
              "      filter: drop-shadow(0px 1px 2px rgba(0, 0, 0, 0.3));\n",
              "      fill: #FFFFFF;\n",
              "    }\n",
              "  </style>\n",
              "\n",
              "      <script>\n",
              "        const buttonEl =\n",
              "          document.querySelector('#df-d14a5ea5-ec70-43e5-9840-f11055922fb5 button.colab-df-convert');\n",
              "        buttonEl.style.display =\n",
              "          google.colab.kernel.accessAllowed ? 'block' : 'none';\n",
              "\n",
              "        async function convertToInteractive(key) {\n",
              "          const element = document.querySelector('#df-d14a5ea5-ec70-43e5-9840-f11055922fb5');\n",
              "          const dataTable =\n",
              "            await google.colab.kernel.invokeFunction('convertToInteractive',\n",
              "                                                     [key], {});\n",
              "          if (!dataTable) return;\n",
              "\n",
              "          const docLinkHtml = 'Like what you see? Visit the ' +\n",
              "            '<a target=\"_blank\" href=https://colab.research.google.com/notebooks/data_table.ipynb>data table notebook</a>'\n",
              "            + ' to learn more about interactive tables.';\n",
              "          element.innerHTML = '';\n",
              "          dataTable['output_type'] = 'display_data';\n",
              "          await google.colab.output.renderOutput(dataTable, element);\n",
              "          const docLink = document.createElement('div');\n",
              "          docLink.innerHTML = docLinkHtml;\n",
              "          element.appendChild(docLink);\n",
              "        }\n",
              "      </script>\n",
              "    </div>\n",
              "  </div>\n",
              "  "
            ]
          },
          "metadata": {},
          "execution_count": 24
        }
      ]
    },
    {
      "cell_type": "code",
      "source": [
        "word2vec_res2"
      ],
      "metadata": {
        "colab": {
          "base_uri": "https://localhost:8080/",
          "height": 455
        },
        "id": "qd6pFp4GqCaC",
        "outputId": "a82ca033-7a30-4bb4-d821-998078716e8f"
      },
      "execution_count": 25,
      "outputs": [
        {
          "output_type": "execute_result",
          "data": {
            "text/plain": [
              "            0\n",
              "id           \n",
              "1    0.089942\n",
              "2    0.050999\n",
              "3    0.197722\n",
              "4    0.030509\n",
              "5    0.050008\n",
              "..        ...\n",
              "100  0.146592\n",
              "101  0.173113\n",
              "102  0.012889\n",
              "103  0.035946\n",
              "104  0.004616\n",
              "\n",
              "[104 rows x 1 columns]"
            ],
            "text/html": [
              "\n",
              "  <div id=\"df-bafb3e7a-ae28-407d-b6d7-65f75b62e1ed\">\n",
              "    <div class=\"colab-df-container\">\n",
              "      <div>\n",
              "<style scoped>\n",
              "    .dataframe tbody tr th:only-of-type {\n",
              "        vertical-align: middle;\n",
              "    }\n",
              "\n",
              "    .dataframe tbody tr th {\n",
              "        vertical-align: top;\n",
              "    }\n",
              "\n",
              "    .dataframe thead th {\n",
              "        text-align: right;\n",
              "    }\n",
              "</style>\n",
              "<table border=\"1\" class=\"dataframe\">\n",
              "  <thead>\n",
              "    <tr style=\"text-align: right;\">\n",
              "      <th></th>\n",
              "      <th>0</th>\n",
              "    </tr>\n",
              "    <tr>\n",
              "      <th>id</th>\n",
              "      <th></th>\n",
              "    </tr>\n",
              "  </thead>\n",
              "  <tbody>\n",
              "    <tr>\n",
              "      <th>1</th>\n",
              "      <td>0.089942</td>\n",
              "    </tr>\n",
              "    <tr>\n",
              "      <th>2</th>\n",
              "      <td>0.050999</td>\n",
              "    </tr>\n",
              "    <tr>\n",
              "      <th>3</th>\n",
              "      <td>0.197722</td>\n",
              "    </tr>\n",
              "    <tr>\n",
              "      <th>4</th>\n",
              "      <td>0.030509</td>\n",
              "    </tr>\n",
              "    <tr>\n",
              "      <th>5</th>\n",
              "      <td>0.050008</td>\n",
              "    </tr>\n",
              "    <tr>\n",
              "      <th>...</th>\n",
              "      <td>...</td>\n",
              "    </tr>\n",
              "    <tr>\n",
              "      <th>100</th>\n",
              "      <td>0.146592</td>\n",
              "    </tr>\n",
              "    <tr>\n",
              "      <th>101</th>\n",
              "      <td>0.173113</td>\n",
              "    </tr>\n",
              "    <tr>\n",
              "      <th>102</th>\n",
              "      <td>0.012889</td>\n",
              "    </tr>\n",
              "    <tr>\n",
              "      <th>103</th>\n",
              "      <td>0.035946</td>\n",
              "    </tr>\n",
              "    <tr>\n",
              "      <th>104</th>\n",
              "      <td>0.004616</td>\n",
              "    </tr>\n",
              "  </tbody>\n",
              "</table>\n",
              "<p>104 rows × 1 columns</p>\n",
              "</div>\n",
              "      <button class=\"colab-df-convert\" onclick=\"convertToInteractive('df-bafb3e7a-ae28-407d-b6d7-65f75b62e1ed')\"\n",
              "              title=\"Convert this dataframe to an interactive table.\"\n",
              "              style=\"display:none;\">\n",
              "        \n",
              "  <svg xmlns=\"http://www.w3.org/2000/svg\" height=\"24px\"viewBox=\"0 0 24 24\"\n",
              "       width=\"24px\">\n",
              "    <path d=\"M0 0h24v24H0V0z\" fill=\"none\"/>\n",
              "    <path d=\"M18.56 5.44l.94 2.06.94-2.06 2.06-.94-2.06-.94-.94-2.06-.94 2.06-2.06.94zm-11 1L8.5 8.5l.94-2.06 2.06-.94-2.06-.94L8.5 2.5l-.94 2.06-2.06.94zm10 10l.94 2.06.94-2.06 2.06-.94-2.06-.94-.94-2.06-.94 2.06-2.06.94z\"/><path d=\"M17.41 7.96l-1.37-1.37c-.4-.4-.92-.59-1.43-.59-.52 0-1.04.2-1.43.59L10.3 9.45l-7.72 7.72c-.78.78-.78 2.05 0 2.83L4 21.41c.39.39.9.59 1.41.59.51 0 1.02-.2 1.41-.59l7.78-7.78 2.81-2.81c.8-.78.8-2.07 0-2.86zM5.41 20L4 18.59l7.72-7.72 1.47 1.35L5.41 20z\"/>\n",
              "  </svg>\n",
              "      </button>\n",
              "      \n",
              "  <style>\n",
              "    .colab-df-container {\n",
              "      display:flex;\n",
              "      flex-wrap:wrap;\n",
              "      gap: 12px;\n",
              "    }\n",
              "\n",
              "    .colab-df-convert {\n",
              "      background-color: #E8F0FE;\n",
              "      border: none;\n",
              "      border-radius: 50%;\n",
              "      cursor: pointer;\n",
              "      display: none;\n",
              "      fill: #1967D2;\n",
              "      height: 32px;\n",
              "      padding: 0 0 0 0;\n",
              "      width: 32px;\n",
              "    }\n",
              "\n",
              "    .colab-df-convert:hover {\n",
              "      background-color: #E2EBFA;\n",
              "      box-shadow: 0px 1px 2px rgba(60, 64, 67, 0.3), 0px 1px 3px 1px rgba(60, 64, 67, 0.15);\n",
              "      fill: #174EA6;\n",
              "    }\n",
              "\n",
              "    [theme=dark] .colab-df-convert {\n",
              "      background-color: #3B4455;\n",
              "      fill: #D2E3FC;\n",
              "    }\n",
              "\n",
              "    [theme=dark] .colab-df-convert:hover {\n",
              "      background-color: #434B5C;\n",
              "      box-shadow: 0px 1px 3px 1px rgba(0, 0, 0, 0.15);\n",
              "      filter: drop-shadow(0px 1px 2px rgba(0, 0, 0, 0.3));\n",
              "      fill: #FFFFFF;\n",
              "    }\n",
              "  </style>\n",
              "\n",
              "      <script>\n",
              "        const buttonEl =\n",
              "          document.querySelector('#df-bafb3e7a-ae28-407d-b6d7-65f75b62e1ed button.colab-df-convert');\n",
              "        buttonEl.style.display =\n",
              "          google.colab.kernel.accessAllowed ? 'block' : 'none';\n",
              "\n",
              "        async function convertToInteractive(key) {\n",
              "          const element = document.querySelector('#df-bafb3e7a-ae28-407d-b6d7-65f75b62e1ed');\n",
              "          const dataTable =\n",
              "            await google.colab.kernel.invokeFunction('convertToInteractive',\n",
              "                                                     [key], {});\n",
              "          if (!dataTable) return;\n",
              "\n",
              "          const docLinkHtml = 'Like what you see? Visit the ' +\n",
              "            '<a target=\"_blank\" href=https://colab.research.google.com/notebooks/data_table.ipynb>data table notebook</a>'\n",
              "            + ' to learn more about interactive tables.';\n",
              "          element.innerHTML = '';\n",
              "          dataTable['output_type'] = 'display_data';\n",
              "          await google.colab.output.renderOutput(dataTable, element);\n",
              "          const docLink = document.createElement('div');\n",
              "          docLink.innerHTML = docLinkHtml;\n",
              "          element.appendChild(docLink);\n",
              "        }\n",
              "      </script>\n",
              "    </div>\n",
              "  </div>\n",
              "  "
            ]
          },
          "metadata": {},
          "execution_count": 25
        }
      ]
    },
    {
      "cell_type": "markdown",
      "source": [
        "## Glove"
      ],
      "metadata": {
        "id": "Q2wuYmbaroY_"
      }
    },
    {
      "cell_type": "code",
      "source": [
        "from gensim.models import KeyedVectors\n",
        "\n",
        "glove_embeddings = {}\n",
        "# Load the pre-trained GloVe word vectors\n",
        "with open(\"/content/glove.6B.100d.txt\", 'r', encoding=\"utf-8\") as f:\n",
        "  for line in f:\n",
        "      values = line.split()\n",
        "      word = values[0]\n",
        "      vector = np.asarray(values[1:], \"float32\")\n",
        "      glove_embeddings[word] = vector"
      ],
      "metadata": {
        "id": "JUTHIbYZrp4J"
      },
      "execution_count": 26,
      "outputs": []
    },
    {
      "cell_type": "code",
      "source": [
        "sw = stopwords.words('english')\n",
        "# Tokenize each job title\n",
        "glove_tokens = [word_tokenize(job_title) for job_title in job_titles]\n",
        "# Remove stop words and puntuations\n",
        "glove_clean = []\n",
        "\n",
        "for line in word2vec_tokens: \n",
        "  tokens = []\n",
        "  for word in line:\n",
        "    if (word not in sw and word not in string.punctuation):  \n",
        "        tokens.append(word)\n",
        "  glove_clean.append(tokens)"
      ],
      "metadata": {
        "id": "6xZRt7s1rpzo"
      },
      "execution_count": 27,
      "outputs": []
    },
    {
      "cell_type": "code",
      "source": [
        "glove_keyword_vec1 = [glove_embeddings[keyword] for keyword in [\"aspiring\", \"human\", \"resources\"]]\n",
        "glove_keyword_vec2 = [glove_embeddings[keyword] for keyword in [\"seeking\", \"human\", \"resources\"]]\n",
        "glove_cs1 = []\n",
        "glove_cs2 = []\n",
        "for title in glove_clean:\n",
        "  glove_title_vec = [glove_embeddings[word] for word in title if word in glove_embeddings]\n",
        "  glove_cs1.append(cosine_similarity(glove_keyword_vec1, glove_title_vec).mean())\n",
        "  glove_cs2.append(cosine_similarity(glove_keyword_vec2, glove_title_vec).mean())"
      ],
      "metadata": {
        "id": "_1_REVPUrpxE"
      },
      "execution_count": null,
      "outputs": []
    },
    {
      "cell_type": "code",
      "source": [
        "glove_res1 = pd.DataFrame(glove_cs1, index=df['id'])\n",
        "glove_res2 = pd.DataFrame(glove_cs2, index=df['id'])"
      ],
      "metadata": {
        "id": "IAmKjPThrpu9"
      },
      "execution_count": null,
      "outputs": []
    },
    {
      "cell_type": "code",
      "source": [
        "glove_res1"
      ],
      "metadata": {
        "id": "pbjG9Cdlrpsz"
      },
      "execution_count": null,
      "outputs": []
    },
    {
      "cell_type": "code",
      "source": [
        "glove_res2"
      ],
      "metadata": {
        "id": "RTTxKsDkrpqh"
      },
      "execution_count": null,
      "outputs": []
    },
    {
      "cell_type": "markdown",
      "source": [
        "## Bert"
      ],
      "metadata": {
        "id": "VS7qoW05IGqb"
      }
    },
    {
      "cell_type": "code",
      "source": [
        "from transformers import BertTokenizer, BertModel\n",
        "import torch\n",
        "\n",
        "# Load the pre-trained BERT model and tokenizer\n",
        "model_name = 'bert-base-uncased'\n",
        "tokenizer = BertTokenizer.from_pretrained(model_name)\n",
        "model = BertModel.from_pretrained(model_name)"
      ],
      "metadata": {
        "id": "5pUHU6znIIC9"
      },
      "execution_count": null,
      "outputs": []
    },
    {
      "cell_type": "code",
      "source": [
        "def get_bert_embeddings(text):\n",
        "    # Tokenize the text\n",
        "    tokens = tokenizer.tokenize(text)\n",
        "\n",
        "    # Convert tokens to token IDs\n",
        "    token_ids = tokenizer.convert_tokens_to_ids(tokens)\n",
        "\n",
        "    # Convert token IDs to tensors\n",
        "    input_tensor = torch.tensor([token_ids])\n",
        "\n",
        "    # Get the BERT model outputs\n",
        "    with torch.no_grad():\n",
        "        outputs = model(input_tensor)\n",
        "\n",
        "    # Get the word embeddings\n",
        "    embeddings = outputs.last_hidden_state.squeeze()\n",
        "\n",
        "    return embeddings"
      ],
      "metadata": {
        "id": "knERAHV1WwGa"
      },
      "execution_count": null,
      "outputs": []
    },
    {
      "cell_type": "code",
      "source": [
        "# Get word embeddings\n",
        "bert_embeddings = []\n",
        "\n",
        "# Iterate over each string\n",
        "for title in job_titles:\n",
        "    # Append word embeddings to the list\n",
        "    bert_embeddings.append(get_bert_embeddings(title))"
      ],
      "metadata": {
        "id": "ZilW9HX4IH7Q"
      },
      "execution_count": null,
      "outputs": []
    },
    {
      "cell_type": "code",
      "source": [
        "# Get keyword embeddings\n",
        "keyword1 = \"aspiring human resources\"\n",
        "keyword2 = \"seeking human resources\"\n",
        "\n",
        "bert_key_embeddings1 = get_bert_embeddings(keyword1)\n",
        "bert_key_embeddings2 = get_bert_embeddings(keyword2)\n",
        "\n",
        "# Print the shape of the word embeddings\n",
        "print(bert_key_embeddings1.shape)\n",
        "print(bert_key_embeddings2.shape)"
      ],
      "metadata": {
        "id": "BbApeh0fN46c"
      },
      "execution_count": null,
      "outputs": []
    },
    {
      "cell_type": "code",
      "source": [
        "# bert_embeddings is in shape (examples, # of words, # of features)\n",
        "bert_cs1 = []\n",
        "bert_cs2 = []\n",
        "for title_emb in bert_embeddings:\n",
        "  if title_emb.ndim != 2:\n",
        "    title_emb = title_emb.reshape(1, -1)\n",
        "  bert_cs1.append(cosine_similarity(bert_key_embeddings1, title_emb).mean())\n",
        "  bert_cs2.append(cosine_similarity(bert_key_embeddings2, title_emb).mean())"
      ],
      "metadata": {
        "id": "du4HVvuWQYzu"
      },
      "execution_count": null,
      "outputs": []
    },
    {
      "cell_type": "code",
      "source": [
        "bert_res1 = pd.DataFrame(bert_cs1, index=df['id'])\n",
        "bert_res2 = pd.DataFrame(bert_cs2, index=df['id'])"
      ],
      "metadata": {
        "id": "68OMaYxeQYwn"
      },
      "execution_count": null,
      "outputs": []
    },
    {
      "cell_type": "code",
      "source": [
        "bert_res1"
      ],
      "metadata": {
        "id": "FBC5rYsqQYt9"
      },
      "execution_count": null,
      "outputs": []
    },
    {
      "cell_type": "code",
      "source": [
        "bert_res2"
      ],
      "metadata": {
        "id": "Ogq_GoCxUtPE"
      },
      "execution_count": null,
      "outputs": []
    },
    {
      "cell_type": "markdown",
      "source": [
        "## Sbert"
      ],
      "metadata": {
        "id": "XZUBg4Uhc_DB"
      }
    },
    {
      "cell_type": "code",
      "source": [
        "from sentence_transformers import SentenceTransformer\n",
        "\n",
        "# Load the SBERT model\n",
        "sbert_model = SentenceTransformer('bert-base-nli-mean-tokens')\n",
        "\n",
        "# Encode the sentences to obtain embeddings\n",
        "sbert_embeddings = sbert_model.encode(job_titles)\n",
        "print(sbert_embeddings.shape)"
      ],
      "metadata": {
        "id": "KjNzj1dJdCdd"
      },
      "execution_count": null,
      "outputs": []
    },
    {
      "cell_type": "code",
      "source": [
        "sbert_keyword_vec1 = model.encode(\"aspiring human resources\").reshape(1, -1)\n",
        "sbert_keyword_vec2 = model.encode(\"seeking human resources\").reshape(1, -1)\n",
        "sbert_cs1 = []\n",
        "sbert_cs2 = []\n",
        "for embedding in sbert_embeddings:\n",
        "  embedding = embedding.reshape(1, -1)\n",
        "  sbert_cs1.append(cosine_similarity(sbert_keyword_vec1, embedding).mean())\n",
        "  sbert_cs2.append(cosine_similarity(sbert_keyword_vec2, embedding).mean())"
      ],
      "metadata": {
        "id": "kaP-Qt42dCa3"
      },
      "execution_count": null,
      "outputs": []
    },
    {
      "cell_type": "code",
      "source": [
        "sbert_res1 = pd.DataFrame(sbert_cs1, index=df['id'])\n",
        "sbert_res2 = pd.DataFrame(sbert_cs2, index=df['id'])"
      ],
      "metadata": {
        "id": "SD78zzagdCXu"
      },
      "execution_count": null,
      "outputs": []
    },
    {
      "cell_type": "code",
      "source": [
        "sbert_res1"
      ],
      "metadata": {
        "id": "2j7yTYGQdCU2"
      },
      "execution_count": null,
      "outputs": []
    },
    {
      "cell_type": "code",
      "source": [
        "sbert_res2"
      ],
      "metadata": {
        "id": "jfaaOYFndCRg"
      },
      "execution_count": null,
      "outputs": []
    },
    {
      "cell_type": "code",
      "source": [],
      "metadata": {
        "id": "KJZmf9lMlXj2"
      },
      "execution_count": null,
      "outputs": []
    }
  ]
}